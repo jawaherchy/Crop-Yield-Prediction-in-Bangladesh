{
 "cells": [
  {
   "cell_type": "code",
   "execution_count": 1,
   "id": "decimal-flexibility",
   "metadata": {},
   "outputs": [
    {
     "data": {
      "text/html": [
       "<div>\n",
       "<style scoped>\n",
       "    .dataframe tbody tr th:only-of-type {\n",
       "        vertical-align: middle;\n",
       "    }\n",
       "\n",
       "    .dataframe tbody tr th {\n",
       "        vertical-align: top;\n",
       "    }\n",
       "\n",
       "    .dataframe thead th {\n",
       "        text-align: right;\n",
       "    }\n",
       "</style>\n",
       "<table border=\"1\" class=\"dataframe\">\n",
       "  <thead>\n",
       "    <tr style=\"text-align: right;\">\n",
       "      <th></th>\n",
       "      <th>Unnamed: 0</th>\n",
       "      <th>Station Names</th>\n",
       "      <th>YEAR</th>\n",
       "      <th>Max Temp</th>\n",
       "      <th>Min Temp</th>\n",
       "      <th>Rainfall</th>\n",
       "      <th>Relative Humidity</th>\n",
       "      <th>Wind Speed</th>\n",
       "      <th>Cloud Coverage</th>\n",
       "      <th>Bright Sunshine</th>\n",
       "      <th>Aus_Area</th>\n",
       "      <th>Aus_Production</th>\n",
       "    </tr>\n",
       "  </thead>\n",
       "  <tbody>\n",
       "    <tr>\n",
       "      <th>0</th>\n",
       "      <td>0</td>\n",
       "      <td>Barisal</td>\n",
       "      <td>1970</td>\n",
       "      <td>32.500000</td>\n",
       "      <td>21.341667</td>\n",
       "      <td>201.083333</td>\n",
       "      <td>82.083333</td>\n",
       "      <td>1.375000</td>\n",
       "      <td>4.041667</td>\n",
       "      <td>7.158333</td>\n",
       "      <td>NaN</td>\n",
       "      <td>NaN</td>\n",
       "    </tr>\n",
       "    <tr>\n",
       "      <th>1</th>\n",
       "      <td>1</td>\n",
       "      <td>Bhola</td>\n",
       "      <td>1970</td>\n",
       "      <td>32.541667</td>\n",
       "      <td>21.133333</td>\n",
       "      <td>172.833333</td>\n",
       "      <td>87.333333</td>\n",
       "      <td>2.450000</td>\n",
       "      <td>4.575000</td>\n",
       "      <td>5.327778</td>\n",
       "      <td>NaN</td>\n",
       "      <td>NaN</td>\n",
       "    </tr>\n",
       "    <tr>\n",
       "      <th>2</th>\n",
       "      <td>2</td>\n",
       "      <td>Bogra</td>\n",
       "      <td>1970</td>\n",
       "      <td>35.758333</td>\n",
       "      <td>20.925000</td>\n",
       "      <td>149.500000</td>\n",
       "      <td>75.583333</td>\n",
       "      <td>1.025000</td>\n",
       "      <td>3.433333</td>\n",
       "      <td>7.541667</td>\n",
       "      <td>286080.0</td>\n",
       "      <td>86400.29940</td>\n",
       "    </tr>\n",
       "    <tr>\n",
       "      <th>3</th>\n",
       "      <td>3</td>\n",
       "      <td>Chandpur</td>\n",
       "      <td>1970</td>\n",
       "      <td>32.583333</td>\n",
       "      <td>22.091667</td>\n",
       "      <td>131.666667</td>\n",
       "      <td>79.583333</td>\n",
       "      <td>1.091667</td>\n",
       "      <td>2.100000</td>\n",
       "      <td>5.478604</td>\n",
       "      <td>NaN</td>\n",
       "      <td>NaN</td>\n",
       "    </tr>\n",
       "    <tr>\n",
       "      <th>4</th>\n",
       "      <td>4</td>\n",
       "      <td>Chittagong</td>\n",
       "      <td>1970</td>\n",
       "      <td>32.400000</td>\n",
       "      <td>21.516667</td>\n",
       "      <td>235.666667</td>\n",
       "      <td>80.500000</td>\n",
       "      <td>2.458333</td>\n",
       "      <td>4.300000</td>\n",
       "      <td>6.966667</td>\n",
       "      <td>264775.0</td>\n",
       "      <td>110195.76195</td>\n",
       "    </tr>\n",
       "    <tr>\n",
       "      <th>...</th>\n",
       "      <td>...</td>\n",
       "      <td>...</td>\n",
       "      <td>...</td>\n",
       "      <td>...</td>\n",
       "      <td>...</td>\n",
       "      <td>...</td>\n",
       "      <td>...</td>\n",
       "      <td>...</td>\n",
       "      <td>...</td>\n",
       "      <td>...</td>\n",
       "      <td>...</td>\n",
       "      <td>...</td>\n",
       "    </tr>\n",
       "    <tr>\n",
       "      <th>1556</th>\n",
       "      <td>1556</td>\n",
       "      <td>Srimongal</td>\n",
       "      <td>2016</td>\n",
       "      <td>31.383333</td>\n",
       "      <td>20.485833</td>\n",
       "      <td>212.166667</td>\n",
       "      <td>82.465833</td>\n",
       "      <td>1.175000</td>\n",
       "      <td>4.107500</td>\n",
       "      <td>5.838333</td>\n",
       "      <td>NaN</td>\n",
       "      <td>NaN</td>\n",
       "    </tr>\n",
       "    <tr>\n",
       "      <th>1557</th>\n",
       "      <td>1557</td>\n",
       "      <td>Syedpur</td>\n",
       "      <td>2016</td>\n",
       "      <td>31.183333</td>\n",
       "      <td>20.603333</td>\n",
       "      <td>114.916667</td>\n",
       "      <td>78.560833</td>\n",
       "      <td>2.224167</td>\n",
       "      <td>2.936667</td>\n",
       "      <td>5.636667</td>\n",
       "      <td>NaN</td>\n",
       "      <td>NaN</td>\n",
       "    </tr>\n",
       "    <tr>\n",
       "      <th>1558</th>\n",
       "      <td>1558</td>\n",
       "      <td>Sylhet</td>\n",
       "      <td>2016</td>\n",
       "      <td>31.060833</td>\n",
       "      <td>21.613333</td>\n",
       "      <td>358.000000</td>\n",
       "      <td>79.060833</td>\n",
       "      <td>1.773333</td>\n",
       "      <td>4.759167</td>\n",
       "      <td>5.325000</td>\n",
       "      <td>NaN</td>\n",
       "      <td>NaN</td>\n",
       "    </tr>\n",
       "    <tr>\n",
       "      <th>1559</th>\n",
       "      <td>1559</td>\n",
       "      <td>Tangail</td>\n",
       "      <td>2016</td>\n",
       "      <td>31.661667</td>\n",
       "      <td>21.353333</td>\n",
       "      <td>94.250000</td>\n",
       "      <td>78.856667</td>\n",
       "      <td>0.891667</td>\n",
       "      <td>3.178333</td>\n",
       "      <td>5.515000</td>\n",
       "      <td>NaN</td>\n",
       "      <td>NaN</td>\n",
       "    </tr>\n",
       "    <tr>\n",
       "      <th>1560</th>\n",
       "      <td>1560</td>\n",
       "      <td>Teknaf</td>\n",
       "      <td>2016</td>\n",
       "      <td>31.039167</td>\n",
       "      <td>22.645000</td>\n",
       "      <td>358.250000</td>\n",
       "      <td>81.034167</td>\n",
       "      <td>1.729167</td>\n",
       "      <td>3.411667</td>\n",
       "      <td>6.424167</td>\n",
       "      <td>NaN</td>\n",
       "      <td>NaN</td>\n",
       "    </tr>\n",
       "  </tbody>\n",
       "</table>\n",
       "<p>1561 rows × 12 columns</p>\n",
       "</div>"
      ],
      "text/plain": [
       "      Unnamed: 0 Station Names  YEAR   Max Temp   Min Temp    Rainfall  \\\n",
       "0              0       Barisal  1970  32.500000  21.341667  201.083333   \n",
       "1              1         Bhola  1970  32.541667  21.133333  172.833333   \n",
       "2              2         Bogra  1970  35.758333  20.925000  149.500000   \n",
       "3              3      Chandpur  1970  32.583333  22.091667  131.666667   \n",
       "4              4    Chittagong  1970  32.400000  21.516667  235.666667   \n",
       "...          ...           ...   ...        ...        ...         ...   \n",
       "1556        1556     Srimongal  2016  31.383333  20.485833  212.166667   \n",
       "1557        1557       Syedpur  2016  31.183333  20.603333  114.916667   \n",
       "1558        1558        Sylhet  2016  31.060833  21.613333  358.000000   \n",
       "1559        1559       Tangail  2016  31.661667  21.353333   94.250000   \n",
       "1560        1560        Teknaf  2016  31.039167  22.645000  358.250000   \n",
       "\n",
       "      Relative Humidity  Wind Speed  Cloud Coverage  Bright Sunshine  \\\n",
       "0             82.083333    1.375000        4.041667         7.158333   \n",
       "1             87.333333    2.450000        4.575000         5.327778   \n",
       "2             75.583333    1.025000        3.433333         7.541667   \n",
       "3             79.583333    1.091667        2.100000         5.478604   \n",
       "4             80.500000    2.458333        4.300000         6.966667   \n",
       "...                 ...         ...             ...              ...   \n",
       "1556          82.465833    1.175000        4.107500         5.838333   \n",
       "1557          78.560833    2.224167        2.936667         5.636667   \n",
       "1558          79.060833    1.773333        4.759167         5.325000   \n",
       "1559          78.856667    0.891667        3.178333         5.515000   \n",
       "1560          81.034167    1.729167        3.411667         6.424167   \n",
       "\n",
       "      Aus_Area  Aus_Production  \n",
       "0          NaN             NaN  \n",
       "1          NaN             NaN  \n",
       "2     286080.0     86400.29940  \n",
       "3          NaN             NaN  \n",
       "4     264775.0    110195.76195  \n",
       "...        ...             ...  \n",
       "1556       NaN             NaN  \n",
       "1557       NaN             NaN  \n",
       "1558       NaN             NaN  \n",
       "1559       NaN             NaN  \n",
       "1560       NaN             NaN  \n",
       "\n",
       "[1561 rows x 12 columns]"
      ]
     },
     "execution_count": 1,
     "metadata": {},
     "output_type": "execute_result"
    }
   ],
   "source": [
    "import pandas as pd\n",
    "df = pd.read_csv(\"test_Mtons.csv\")\n",
    "df"
   ]
  },
  {
   "cell_type": "code",
   "execution_count": 2,
   "id": "impossible-mason",
   "metadata": {},
   "outputs": [],
   "source": [
    "df = df.dropna(axis=0, subset=['Aus_Area','Aus_Production'])"
   ]
  },
  {
   "cell_type": "code",
   "execution_count": 3,
   "id": "strategic-oliver",
   "metadata": {},
   "outputs": [
    {
     "data": {
      "text/html": [
       "<div>\n",
       "<style scoped>\n",
       "    .dataframe tbody tr th:only-of-type {\n",
       "        vertical-align: middle;\n",
       "    }\n",
       "\n",
       "    .dataframe tbody tr th {\n",
       "        vertical-align: top;\n",
       "    }\n",
       "\n",
       "    .dataframe thead th {\n",
       "        text-align: right;\n",
       "    }\n",
       "</style>\n",
       "<table border=\"1\" class=\"dataframe\">\n",
       "  <thead>\n",
       "    <tr style=\"text-align: right;\">\n",
       "      <th></th>\n",
       "      <th>Station Names</th>\n",
       "      <th>YEAR</th>\n",
       "      <th>Max Temp</th>\n",
       "      <th>Min Temp</th>\n",
       "      <th>Rainfall</th>\n",
       "      <th>Relative Humidity</th>\n",
       "      <th>Wind Speed</th>\n",
       "      <th>Cloud Coverage</th>\n",
       "      <th>Bright Sunshine</th>\n",
       "      <th>Aus_Area</th>\n",
       "      <th>Aus_Production</th>\n",
       "    </tr>\n",
       "  </thead>\n",
       "  <tbody>\n",
       "    <tr>\n",
       "      <th>2</th>\n",
       "      <td>Bogra</td>\n",
       "      <td>1970</td>\n",
       "      <td>35.758333</td>\n",
       "      <td>20.925000</td>\n",
       "      <td>149.500000</td>\n",
       "      <td>75.583333</td>\n",
       "      <td>1.025000</td>\n",
       "      <td>3.433333</td>\n",
       "      <td>7.541667</td>\n",
       "      <td>286080.0</td>\n",
       "      <td>86400.299400</td>\n",
       "    </tr>\n",
       "    <tr>\n",
       "      <th>4</th>\n",
       "      <td>Chittagong</td>\n",
       "      <td>1970</td>\n",
       "      <td>32.400000</td>\n",
       "      <td>21.516667</td>\n",
       "      <td>235.666667</td>\n",
       "      <td>80.500000</td>\n",
       "      <td>2.458333</td>\n",
       "      <td>4.300000</td>\n",
       "      <td>6.966667</td>\n",
       "      <td>264775.0</td>\n",
       "      <td>110195.761950</td>\n",
       "    </tr>\n",
       "    <tr>\n",
       "      <th>5</th>\n",
       "      <td>Comilla</td>\n",
       "      <td>1970</td>\n",
       "      <td>33.400000</td>\n",
       "      <td>21.891667</td>\n",
       "      <td>144.333333</td>\n",
       "      <td>85.166667</td>\n",
       "      <td>1.075000</td>\n",
       "      <td>2.258333</td>\n",
       "      <td>6.583838</td>\n",
       "      <td>566325.0</td>\n",
       "      <td>203250.263325</td>\n",
       "    </tr>\n",
       "    <tr>\n",
       "      <th>7</th>\n",
       "      <td>Dhaka</td>\n",
       "      <td>1970</td>\n",
       "      <td>33.258333</td>\n",
       "      <td>21.466667</td>\n",
       "      <td>166.250000</td>\n",
       "      <td>76.250000</td>\n",
       "      <td>1.466667</td>\n",
       "      <td>3.750000</td>\n",
       "      <td>7.841667</td>\n",
       "      <td>499125.0</td>\n",
       "      <td>167860.976475</td>\n",
       "    </tr>\n",
       "    <tr>\n",
       "      <th>8</th>\n",
       "      <td>Dinajpur</td>\n",
       "      <td>1970</td>\n",
       "      <td>33.691667</td>\n",
       "      <td>20.358333</td>\n",
       "      <td>118.583333</td>\n",
       "      <td>73.250000</td>\n",
       "      <td>0.658333</td>\n",
       "      <td>2.533333</td>\n",
       "      <td>6.339000</td>\n",
       "      <td>484460.0</td>\n",
       "      <td>169811.424225</td>\n",
       "    </tr>\n",
       "    <tr>\n",
       "      <th>...</th>\n",
       "      <td>...</td>\n",
       "      <td>...</td>\n",
       "      <td>...</td>\n",
       "      <td>...</td>\n",
       "      <td>...</td>\n",
       "      <td>...</td>\n",
       "      <td>...</td>\n",
       "      <td>...</td>\n",
       "      <td>...</td>\n",
       "      <td>...</td>\n",
       "      <td>...</td>\n",
       "    </tr>\n",
       "    <tr>\n",
       "      <th>1446</th>\n",
       "      <td>Rangamati</td>\n",
       "      <td>2015</td>\n",
       "      <td>30.681667</td>\n",
       "      <td>20.635833</td>\n",
       "      <td>278.500000</td>\n",
       "      <td>79.488333</td>\n",
       "      <td>0.540833</td>\n",
       "      <td>3.876667</td>\n",
       "      <td>5.774545</td>\n",
       "      <td>17241</td>\n",
       "      <td>11414.000000</td>\n",
       "    </tr>\n",
       "    <tr>\n",
       "      <th>1447</th>\n",
       "      <td>Rangpur</td>\n",
       "      <td>2015</td>\n",
       "      <td>29.670833</td>\n",
       "      <td>20.699167</td>\n",
       "      <td>201.416667</td>\n",
       "      <td>80.062500</td>\n",
       "      <td>1.083333</td>\n",
       "      <td>4.303333</td>\n",
       "      <td>5.284167</td>\n",
       "      <td>3275</td>\n",
       "      <td>3438.000000</td>\n",
       "    </tr>\n",
       "    <tr>\n",
       "      <th>1449</th>\n",
       "      <td>Satkhira</td>\n",
       "      <td>2015</td>\n",
       "      <td>31.366667</td>\n",
       "      <td>22.162500</td>\n",
       "      <td>149.333333</td>\n",
       "      <td>79.200833</td>\n",
       "      <td>0.818333</td>\n",
       "      <td>3.262500</td>\n",
       "      <td>5.345833</td>\n",
       "      <td>20051</td>\n",
       "      <td>20133.000000</td>\n",
       "    </tr>\n",
       "    <tr>\n",
       "      <th>1453</th>\n",
       "      <td>Sylhet</td>\n",
       "      <td>2015</td>\n",
       "      <td>30.814167</td>\n",
       "      <td>20.920833</td>\n",
       "      <td>376.750000</td>\n",
       "      <td>78.276667</td>\n",
       "      <td>1.490833</td>\n",
       "      <td>4.564167</td>\n",
       "      <td>5.289167</td>\n",
       "      <td>93589</td>\n",
       "      <td>98593.000000</td>\n",
       "    </tr>\n",
       "    <tr>\n",
       "      <th>1454</th>\n",
       "      <td>Tangail</td>\n",
       "      <td>2015</td>\n",
       "      <td>30.896667</td>\n",
       "      <td>20.436667</td>\n",
       "      <td>155.916667</td>\n",
       "      <td>78.985000</td>\n",
       "      <td>0.863333</td>\n",
       "      <td>3.179167</td>\n",
       "      <td>5.613333</td>\n",
       "      <td>902</td>\n",
       "      <td>546.000000</td>\n",
       "    </tr>\n",
       "  </tbody>\n",
       "</table>\n",
       "<p>846 rows × 11 columns</p>\n",
       "</div>"
      ],
      "text/plain": [
       "     Station Names  YEAR   Max Temp   Min Temp    Rainfall  Relative Humidity  \\\n",
       "2            Bogra  1970  35.758333  20.925000  149.500000          75.583333   \n",
       "4       Chittagong  1970  32.400000  21.516667  235.666667          80.500000   \n",
       "5          Comilla  1970  33.400000  21.891667  144.333333          85.166667   \n",
       "7            Dhaka  1970  33.258333  21.466667  166.250000          76.250000   \n",
       "8         Dinajpur  1970  33.691667  20.358333  118.583333          73.250000   \n",
       "...            ...   ...        ...        ...         ...                ...   \n",
       "1446     Rangamati  2015  30.681667  20.635833  278.500000          79.488333   \n",
       "1447       Rangpur  2015  29.670833  20.699167  201.416667          80.062500   \n",
       "1449      Satkhira  2015  31.366667  22.162500  149.333333          79.200833   \n",
       "1453        Sylhet  2015  30.814167  20.920833  376.750000          78.276667   \n",
       "1454       Tangail  2015  30.896667  20.436667  155.916667          78.985000   \n",
       "\n",
       "      Wind Speed  Cloud Coverage  Bright Sunshine  Aus_Area  Aus_Production  \n",
       "2       1.025000        3.433333         7.541667  286080.0    86400.299400  \n",
       "4       2.458333        4.300000         6.966667  264775.0   110195.761950  \n",
       "5       1.075000        2.258333         6.583838  566325.0   203250.263325  \n",
       "7       1.466667        3.750000         7.841667  499125.0   167860.976475  \n",
       "8       0.658333        2.533333         6.339000  484460.0   169811.424225  \n",
       "...          ...             ...              ...       ...             ...  \n",
       "1446    0.540833        3.876667         5.774545     17241    11414.000000  \n",
       "1447    1.083333        4.303333         5.284167      3275     3438.000000  \n",
       "1449    0.818333        3.262500         5.345833     20051    20133.000000  \n",
       "1453    1.490833        4.564167         5.289167     93589    98593.000000  \n",
       "1454    0.863333        3.179167         5.613333       902      546.000000  \n",
       "\n",
       "[846 rows x 11 columns]"
      ]
     },
     "execution_count": 3,
     "metadata": {},
     "output_type": "execute_result"
    }
   ],
   "source": [
    "df = df.drop(['Unnamed: 0'],axis =1)\n",
    "df"
   ]
  },
  {
   "cell_type": "code",
   "execution_count": 4,
   "id": "adjustable-skill",
   "metadata": {},
   "outputs": [
    {
     "data": {
      "text/plain": [
       "<AxesSubplot:>"
      ]
     },
     "execution_count": 4,
     "metadata": {},
     "output_type": "execute_result"
    },
    {
     "data": {
      "image/png": "[encoded data removed]",
      "text/plain": [
       "<Figure size 432x288 with 1 Axes>"
      ]
     },
     "metadata": {
      "needs_background": "light"
     },
     "output_type": "display_data"
    }
   ],
   "source": [
    "df.plot()"
   ]
  },
  {
   "cell_type": "code",
   "execution_count": 5,
   "id": "adjacent-location",
   "metadata": {},
   "outputs": [
    {
     "data": {
      "text/plain": [
       "<AxesSubplot:xlabel='YEAR'>"
      ]
     },
     "execution_count": 5,
     "metadata": {},
     "output_type": "execute_result"
    },
    {
     "data": {
      "image/png": "[encoded data removed]",
      "text/plain": [
       "<Figure size 432x288 with 1 Axes>"
      ]
     },
     "metadata": {
      "needs_background": "light"
     },
     "output_type": "display_data"
    }
   ],
   "source": [
    "df.set_index(\"YEAR\").plot()"
   ]
  },
  {
   "cell_type": "markdown",
   "id": "interior-antibody",
   "metadata": {},
   "source": [
    "df.set_index(\"YEAR\", inplace = True)\n",
    "df[['Aus_Area','Aus_Production']].plot()"
   ]
  },
  {
   "cell_type": "code",
   "execution_count": 6,
   "id": "absolute-sensitivity",
   "metadata": {},
   "outputs": [
    {
     "data": {
      "text/plain": [
       "2        86400.299400\n",
       "4       110195.761950\n",
       "5       203250.263325\n",
       "7       167860.976475\n",
       "8       169811.424225\n",
       "            ...      \n",
       "1446     11414.000000\n",
       "1447      3438.000000\n",
       "1449     20133.000000\n",
       "1453     98593.000000\n",
       "1454       546.000000\n",
       "Name: Aus_Production, Length: 846, dtype: float64"
      ]
     },
     "execution_count": 6,
     "metadata": {},
     "output_type": "execute_result"
    }
   ],
   "source": [
    "df['Aus_Production']"
   ]
  },
  {
   "cell_type": "code",
   "execution_count": 7,
   "id": "violent-oakland",
   "metadata": {},
   "outputs": [
    {
     "data": {
      "text/plain": [
       "Station Names         object\n",
       "YEAR                   int64\n",
       "Max Temp             float64\n",
       "Min Temp             float64\n",
       "Rainfall             float64\n",
       "Relative Humidity    float64\n",
       "Wind Speed           float64\n",
       "Cloud Coverage       float64\n",
       "Bright Sunshine      float64\n",
       "Aus_Area              object\n",
       "Aus_Production       float64\n",
       "dtype: object"
      ]
     },
     "execution_count": 7,
     "metadata": {},
     "output_type": "execute_result"
    }
   ],
   "source": [
    "df.dtypes"
   ]
  },
  {
   "cell_type": "code",
   "execution_count": 8,
   "id": "generic-medline",
   "metadata": {},
   "outputs": [
    {
     "ename": "ValueError",
     "evalue": "could not convert string to float: '48397\\n0'",
     "output_type": "error",
     "traceback": [
      "\u001b[1;31m---------------------------------------------------------------------------\u001b[0m",
      "\u001b[1;31mValueError\u001b[0m                                Traceback (most recent call last)",
      "\u001b[1;32m<ipython-input-8-2116110a225a>\u001b[0m in \u001b[0;36m<module>\u001b[1;34m\u001b[0m\n\u001b[1;32m----> 1\u001b[1;33m \u001b[0mdf\u001b[0m\u001b[1;33m[\u001b[0m\u001b[1;34m'Aus_Area'\u001b[0m\u001b[1;33m]\u001b[0m \u001b[1;33m=\u001b[0m \u001b[0mdf\u001b[0m\u001b[1;33m[\u001b[0m\u001b[1;34m'Aus_Area'\u001b[0m\u001b[1;33m]\u001b[0m\u001b[1;33m.\u001b[0m\u001b[0mastype\u001b[0m\u001b[1;33m(\u001b[0m\u001b[0mfloat\u001b[0m\u001b[1;33m)\u001b[0m\u001b[1;33m\u001b[0m\u001b[1;33m\u001b[0m\u001b[0m\n\u001b[0m",
      "\u001b[1;32mc:\\users\\dell\\appdata\\local\\programs\\python\\python39\\lib\\site-packages\\pandas\\core\\generic.py\u001b[0m in \u001b[0;36mastype\u001b[1;34m(self, dtype, copy, errors)\u001b[0m\n\u001b[0;32m   5875\u001b[0m         \u001b[1;32melse\u001b[0m\u001b[1;33m:\u001b[0m\u001b[1;33m\u001b[0m\u001b[1;33m\u001b[0m\u001b[0m\n\u001b[0;32m   5876\u001b[0m             \u001b[1;31m# else, only a single dtype is given\u001b[0m\u001b[1;33m\u001b[0m\u001b[1;33m\u001b[0m\u001b[1;33m\u001b[0m\u001b[0m\n\u001b[1;32m-> 5877\u001b[1;33m             \u001b[0mnew_data\u001b[0m \u001b[1;33m=\u001b[0m \u001b[0mself\u001b[0m\u001b[1;33m.\u001b[0m\u001b[0m_mgr\u001b[0m\u001b[1;33m.\u001b[0m\u001b[0mastype\u001b[0m\u001b[1;33m(\u001b[0m\u001b[0mdtype\u001b[0m\u001b[1;33m=\u001b[0m\u001b[0mdtype\u001b[0m\u001b[1;33m,\u001b[0m \u001b[0mcopy\u001b[0m\u001b[1;33m=\u001b[0m\u001b[0mcopy\u001b[0m\u001b[1;33m,\u001b[0m \u001b[0merrors\u001b[0m\u001b[1;33m=\u001b[0m\u001b[0merrors\u001b[0m\u001b[1;33m)\u001b[0m\u001b[1;33m\u001b[0m\u001b[1;33m\u001b[0m\u001b[0m\n\u001b[0m\u001b[0;32m   5878\u001b[0m             \u001b[1;32mreturn\u001b[0m \u001b[0mself\u001b[0m\u001b[1;33m.\u001b[0m\u001b[0m_constructor\u001b[0m\u001b[1;33m(\u001b[0m\u001b[0mnew_data\u001b[0m\u001b[1;33m)\u001b[0m\u001b[1;33m.\u001b[0m\u001b[0m__finalize__\u001b[0m\u001b[1;33m(\u001b[0m\u001b[0mself\u001b[0m\u001b[1;33m,\u001b[0m \u001b[0mmethod\u001b[0m\u001b[1;33m=\u001b[0m\u001b[1;34m\"astype\"\u001b[0m\u001b[1;33m)\u001b[0m\u001b[1;33m\u001b[0m\u001b[1;33m\u001b[0m\u001b[0m\n\u001b[0;32m   5879\u001b[0m \u001b[1;33m\u001b[0m\u001b[0m\n",
      "\u001b[1;32mc:\\users\\dell\\appdata\\local\\programs\\python\\python39\\lib\\site-packages\\pandas\\core\\internals\\managers.py\u001b[0m in \u001b[0;36mastype\u001b[1;34m(self, dtype, copy, errors)\u001b[0m\n\u001b[0;32m    629\u001b[0m         \u001b[0mself\u001b[0m\u001b[1;33m,\u001b[0m \u001b[0mdtype\u001b[0m\u001b[1;33m,\u001b[0m \u001b[0mcopy\u001b[0m\u001b[1;33m:\u001b[0m \u001b[0mbool\u001b[0m \u001b[1;33m=\u001b[0m \u001b[1;32mFalse\u001b[0m\u001b[1;33m,\u001b[0m \u001b[0merrors\u001b[0m\u001b[1;33m:\u001b[0m \u001b[0mstr\u001b[0m \u001b[1;33m=\u001b[0m \u001b[1;34m\"raise\"\u001b[0m\u001b[1;33m\u001b[0m\u001b[1;33m\u001b[0m\u001b[0m\n\u001b[0;32m    630\u001b[0m     ) -> \"BlockManager\":\n\u001b[1;32m--> 631\u001b[1;33m         \u001b[1;32mreturn\u001b[0m \u001b[0mself\u001b[0m\u001b[1;33m.\u001b[0m\u001b[0mapply\u001b[0m\u001b[1;33m(\u001b[0m\u001b[1;34m\"astype\"\u001b[0m\u001b[1;33m,\u001b[0m \u001b[0mdtype\u001b[0m\u001b[1;33m=\u001b[0m\u001b[0mdtype\u001b[0m\u001b[1;33m,\u001b[0m \u001b[0mcopy\u001b[0m\u001b[1;33m=\u001b[0m\u001b[0mcopy\u001b[0m\u001b[1;33m,\u001b[0m \u001b[0merrors\u001b[0m\u001b[1;33m=\u001b[0m\u001b[0merrors\u001b[0m\u001b[1;33m)\u001b[0m\u001b[1;33m\u001b[0m\u001b[1;33m\u001b[0m\u001b[0m\n\u001b[0m\u001b[0;32m    632\u001b[0m \u001b[1;33m\u001b[0m\u001b[0m\n\u001b[0;32m    633\u001b[0m     def convert(\n",
      "\u001b[1;32mc:\\users\\dell\\appdata\\local\\programs\\python\\python39\\lib\\site-packages\\pandas\\core\\internals\\managers.py\u001b[0m in \u001b[0;36mapply\u001b[1;34m(self, f, align_keys, ignore_failures, **kwargs)\u001b[0m\n\u001b[0;32m    425\u001b[0m                     \u001b[0mapplied\u001b[0m \u001b[1;33m=\u001b[0m \u001b[0mb\u001b[0m\u001b[1;33m.\u001b[0m\u001b[0mapply\u001b[0m\u001b[1;33m(\u001b[0m\u001b[0mf\u001b[0m\u001b[1;33m,\u001b[0m \u001b[1;33m**\u001b[0m\u001b[0mkwargs\u001b[0m\u001b[1;33m)\u001b[0m\u001b[1;33m\u001b[0m\u001b[1;33m\u001b[0m\u001b[0m\n\u001b[0;32m    426\u001b[0m                 \u001b[1;32melse\u001b[0m\u001b[1;33m:\u001b[0m\u001b[1;33m\u001b[0m\u001b[1;33m\u001b[0m\u001b[0m\n\u001b[1;32m--> 427\u001b[1;33m                     \u001b[0mapplied\u001b[0m \u001b[1;33m=\u001b[0m \u001b[0mgetattr\u001b[0m\u001b[1;33m(\u001b[0m\u001b[0mb\u001b[0m\u001b[1;33m,\u001b[0m \u001b[0mf\u001b[0m\u001b[1;33m)\u001b[0m\u001b[1;33m(\u001b[0m\u001b[1;33m**\u001b[0m\u001b[0mkwargs\u001b[0m\u001b[1;33m)\u001b[0m\u001b[1;33m\u001b[0m\u001b[1;33m\u001b[0m\u001b[0m\n\u001b[0m\u001b[0;32m    428\u001b[0m             \u001b[1;32mexcept\u001b[0m \u001b[1;33m(\u001b[0m\u001b[0mTypeError\u001b[0m\u001b[1;33m,\u001b[0m \u001b[0mNotImplementedError\u001b[0m\u001b[1;33m)\u001b[0m\u001b[1;33m:\u001b[0m\u001b[1;33m\u001b[0m\u001b[1;33m\u001b[0m\u001b[0m\n\u001b[0;32m    429\u001b[0m                 \u001b[1;32mif\u001b[0m \u001b[1;32mnot\u001b[0m \u001b[0mignore_failures\u001b[0m\u001b[1;33m:\u001b[0m\u001b[1;33m\u001b[0m\u001b[1;33m\u001b[0m\u001b[0m\n",
      "\u001b[1;32mc:\\users\\dell\\appdata\\local\\programs\\python\\python39\\lib\\site-packages\\pandas\\core\\internals\\blocks.py\u001b[0m in \u001b[0;36mastype\u001b[1;34m(self, dtype, copy, errors)\u001b[0m\n\u001b[0;32m    671\u001b[0m             \u001b[0mvals1d\u001b[0m \u001b[1;33m=\u001b[0m \u001b[0mvalues\u001b[0m\u001b[1;33m.\u001b[0m\u001b[0mravel\u001b[0m\u001b[1;33m(\u001b[0m\u001b[1;33m)\u001b[0m\u001b[1;33m\u001b[0m\u001b[1;33m\u001b[0m\u001b[0m\n\u001b[0;32m    672\u001b[0m             \u001b[1;32mtry\u001b[0m\u001b[1;33m:\u001b[0m\u001b[1;33m\u001b[0m\u001b[1;33m\u001b[0m\u001b[0m\n\u001b[1;32m--> 673\u001b[1;33m                 \u001b[0mvalues\u001b[0m \u001b[1;33m=\u001b[0m \u001b[0mastype_nansafe\u001b[0m\u001b[1;33m(\u001b[0m\u001b[0mvals1d\u001b[0m\u001b[1;33m,\u001b[0m \u001b[0mdtype\u001b[0m\u001b[1;33m,\u001b[0m \u001b[0mcopy\u001b[0m\u001b[1;33m=\u001b[0m\u001b[1;32mTrue\u001b[0m\u001b[1;33m)\u001b[0m\u001b[1;33m\u001b[0m\u001b[1;33m\u001b[0m\u001b[0m\n\u001b[0m\u001b[0;32m    674\u001b[0m             \u001b[1;32mexcept\u001b[0m \u001b[1;33m(\u001b[0m\u001b[0mValueError\u001b[0m\u001b[1;33m,\u001b[0m \u001b[0mTypeError\u001b[0m\u001b[1;33m)\u001b[0m\u001b[1;33m:\u001b[0m\u001b[1;33m\u001b[0m\u001b[1;33m\u001b[0m\u001b[0m\n\u001b[0;32m    675\u001b[0m                 \u001b[1;31m# e.g. astype_nansafe can fail on object-dtype of strings\u001b[0m\u001b[1;33m\u001b[0m\u001b[1;33m\u001b[0m\u001b[1;33m\u001b[0m\u001b[0m\n",
      "\u001b[1;32mc:\\users\\dell\\appdata\\local\\programs\\python\\python39\\lib\\site-packages\\pandas\\core\\dtypes\\cast.py\u001b[0m in \u001b[0;36mastype_nansafe\u001b[1;34m(arr, dtype, copy, skipna)\u001b[0m\n\u001b[0;32m   1095\u001b[0m     \u001b[1;32mif\u001b[0m \u001b[0mcopy\u001b[0m \u001b[1;32mor\u001b[0m \u001b[0mis_object_dtype\u001b[0m\u001b[1;33m(\u001b[0m\u001b[0marr\u001b[0m\u001b[1;33m)\u001b[0m \u001b[1;32mor\u001b[0m \u001b[0mis_object_dtype\u001b[0m\u001b[1;33m(\u001b[0m\u001b[0mdtype\u001b[0m\u001b[1;33m)\u001b[0m\u001b[1;33m:\u001b[0m\u001b[1;33m\u001b[0m\u001b[1;33m\u001b[0m\u001b[0m\n\u001b[0;32m   1096\u001b[0m         \u001b[1;31m# Explicit copy, or required since NumPy can't view from / to object.\u001b[0m\u001b[1;33m\u001b[0m\u001b[1;33m\u001b[0m\u001b[1;33m\u001b[0m\u001b[0m\n\u001b[1;32m-> 1097\u001b[1;33m         \u001b[1;32mreturn\u001b[0m \u001b[0marr\u001b[0m\u001b[1;33m.\u001b[0m\u001b[0mastype\u001b[0m\u001b[1;33m(\u001b[0m\u001b[0mdtype\u001b[0m\u001b[1;33m,\u001b[0m \u001b[0mcopy\u001b[0m\u001b[1;33m=\u001b[0m\u001b[1;32mTrue\u001b[0m\u001b[1;33m)\u001b[0m\u001b[1;33m\u001b[0m\u001b[1;33m\u001b[0m\u001b[0m\n\u001b[0m\u001b[0;32m   1098\u001b[0m \u001b[1;33m\u001b[0m\u001b[0m\n\u001b[0;32m   1099\u001b[0m     \u001b[1;32mreturn\u001b[0m \u001b[0marr\u001b[0m\u001b[1;33m.\u001b[0m\u001b[0mview\u001b[0m\u001b[1;33m(\u001b[0m\u001b[0mdtype\u001b[0m\u001b[1;33m)\u001b[0m\u001b[1;33m\u001b[0m\u001b[1;33m\u001b[0m\u001b[0m\n",
      "\u001b[1;31mValueError\u001b[0m: could not convert string to float: '48397\\n0'"
     ]
    }
   ],
   "source": [
    "df['Aus_Area'] = df['Aus_Area'].astype(float)"
   ]
  },
  {
   "cell_type": "code",
   "execution_count": 9,
   "id": "played-classroom",
   "metadata": {},
   "outputs": [],
   "source": [
    "df[\"Aus_Area\"].replace({\"48397\\n0\":\"48397\"},inplace = True)"
   ]
  },
  {
   "cell_type": "code",
   "execution_count": 10,
   "id": "behind-bunny",
   "metadata": {},
   "outputs": [
    {
     "data": {
      "text/plain": [
       "Station Names         object\n",
       "YEAR                   int64\n",
       "Max Temp             float64\n",
       "Min Temp             float64\n",
       "Rainfall             float64\n",
       "Relative Humidity    float64\n",
       "Wind Speed           float64\n",
       "Cloud Coverage       float64\n",
       "Bright Sunshine      float64\n",
       "Aus_Area              object\n",
       "Aus_Production       float64\n",
       "dtype: object"
      ]
     },
     "execution_count": 10,
     "metadata": {},
     "output_type": "execute_result"
    }
   ],
   "source": [
    "df.dtypes"
   ]
  },
  {
   "cell_type": "code",
   "execution_count": 11,
   "id": "loved-causing",
   "metadata": {},
   "outputs": [],
   "source": [
    "df['Aus_Area'] = df['Aus_Area'].astype(float)"
   ]
  },
  {
   "cell_type": "code",
   "execution_count": 12,
   "id": "proprietary-french",
   "metadata": {},
   "outputs": [
    {
     "data": {
      "text/plain": [
       "Station Names         object\n",
       "YEAR                   int64\n",
       "Max Temp             float64\n",
       "Min Temp             float64\n",
       "Rainfall             float64\n",
       "Relative Humidity    float64\n",
       "Wind Speed           float64\n",
       "Cloud Coverage       float64\n",
       "Bright Sunshine      float64\n",
       "Aus_Area             float64\n",
       "Aus_Production       float64\n",
       "dtype: object"
      ]
     },
     "execution_count": 12,
     "metadata": {},
     "output_type": "execute_result"
    }
   ],
   "source": [
    "df.dtypes"
   ]
  },
  {
   "cell_type": "code",
   "execution_count": 13,
   "id": "weird-looking",
   "metadata": {},
   "outputs": [
    {
     "data": {
      "text/plain": [
       "<AxesSubplot:>"
      ]
     },
     "execution_count": 13,
     "metadata": {},
     "output_type": "execute_result"
    },
    {
     "data": {
      "image/png": "[encoded data removed]",
      "text/plain": [
       "<Figure size 432x288 with 1 Axes>"
      ]
     },
     "metadata": {
      "needs_background": "light"
     },
     "output_type": "display_data"
    }
   ],
   "source": [
    "df[['Aus_Area','Aus_Production']].plot()"
   ]
  },
  {
   "cell_type": "code",
   "execution_count": null,
   "id": "afraid-bride",
   "metadata": {},
   "outputs": [],
   "source": [
    "df[['Aus_Production']].plot()"
   ]
  },
  {
   "cell_type": "code",
   "execution_count": null,
   "id": "unauthorized-oxford",
   "metadata": {},
   "outputs": [],
   "source": [
    "from matplotlib import pyplot as plt\n",
    "from datetime import datetime, timedelta\n",
    "from matplotlib import dates as mpl_dates\n",
    "plt.style.use('seaborn')"
   ]
  },
  {
   "cell_type": "markdown",
   "id": "toxic-animal",
   "metadata": {},
   "source": [
    "df['YEAR']= pd.to_datetime(df['YEAR'])\n",
    "df.sort_values('YEAR', inplace= True)"
   ]
  },
  {
   "cell_type": "code",
   "execution_count": null,
   "id": "geological-jacksonville",
   "metadata": {},
   "outputs": [],
   "source": [
    "x=df['YEAR']\n",
    "y=df['Aus_Production']"
   ]
  },
  {
   "cell_type": "code",
   "execution_count": null,
   "id": "gorgeous-dialogue",
   "metadata": {},
   "outputs": [],
   "source": [
    "plt.plot_date(x,y,linestyle = 'solid')\n",
    "plt.gcf().autofmt_xdate()\n",
    "plt.tight_layout()\n",
    "plt.show()"
   ]
  },
  {
   "cell_type": "code",
   "execution_count": 14,
   "id": "owned-addiction",
   "metadata": {},
   "outputs": [],
   "source": [
    "df.to_excel(\"amon.xlsx\")"
   ]
  },
  {
   "cell_type": "code",
   "execution_count": 15,
   "id": "charming-carolina",
   "metadata": {},
   "outputs": [
    {
     "data": {
      "text/html": [
       "<div>\n",
       "<style scoped>\n",
       "    .dataframe tbody tr th:only-of-type {\n",
       "        vertical-align: middle;\n",
       "    }\n",
       "\n",
       "    .dataframe tbody tr th {\n",
       "        vertical-align: top;\n",
       "    }\n",
       "\n",
       "    .dataframe thead th {\n",
       "        text-align: right;\n",
       "    }\n",
       "</style>\n",
       "<table border=\"1\" class=\"dataframe\">\n",
       "  <thead>\n",
       "    <tr style=\"text-align: right;\">\n",
       "      <th></th>\n",
       "      <th>Station Names</th>\n",
       "      <th>YEAR</th>\n",
       "      <th>Max Temp</th>\n",
       "      <th>Min Temp</th>\n",
       "      <th>Rainfall</th>\n",
       "      <th>Relative Humidity</th>\n",
       "      <th>Wind Speed</th>\n",
       "      <th>Cloud Coverage</th>\n",
       "      <th>Bright Sunshine</th>\n",
       "      <th>Aus_Area</th>\n",
       "      <th>Aus_Production</th>\n",
       "    </tr>\n",
       "  </thead>\n",
       "  <tbody>\n",
       "    <tr>\n",
       "      <th>2</th>\n",
       "      <td>Bogra</td>\n",
       "      <td>1970</td>\n",
       "      <td>35.758333</td>\n",
       "      <td>20.925000</td>\n",
       "      <td>149.500000</td>\n",
       "      <td>75.583333</td>\n",
       "      <td>1.025000</td>\n",
       "      <td>3.433333</td>\n",
       "      <td>7.541667</td>\n",
       "      <td>286080.0</td>\n",
       "      <td>86400.299400</td>\n",
       "    </tr>\n",
       "    <tr>\n",
       "      <th>4</th>\n",
       "      <td>Chittagong</td>\n",
       "      <td>1970</td>\n",
       "      <td>32.400000</td>\n",
       "      <td>21.516667</td>\n",
       "      <td>235.666667</td>\n",
       "      <td>80.500000</td>\n",
       "      <td>2.458333</td>\n",
       "      <td>4.300000</td>\n",
       "      <td>6.966667</td>\n",
       "      <td>264775.0</td>\n",
       "      <td>110195.761950</td>\n",
       "    </tr>\n",
       "    <tr>\n",
       "      <th>5</th>\n",
       "      <td>Comilla</td>\n",
       "      <td>1970</td>\n",
       "      <td>33.400000</td>\n",
       "      <td>21.891667</td>\n",
       "      <td>144.333333</td>\n",
       "      <td>85.166667</td>\n",
       "      <td>1.075000</td>\n",
       "      <td>2.258333</td>\n",
       "      <td>6.583838</td>\n",
       "      <td>566325.0</td>\n",
       "      <td>203250.263325</td>\n",
       "    </tr>\n",
       "    <tr>\n",
       "      <th>7</th>\n",
       "      <td>Dhaka</td>\n",
       "      <td>1970</td>\n",
       "      <td>33.258333</td>\n",
       "      <td>21.466667</td>\n",
       "      <td>166.250000</td>\n",
       "      <td>76.250000</td>\n",
       "      <td>1.466667</td>\n",
       "      <td>3.750000</td>\n",
       "      <td>7.841667</td>\n",
       "      <td>499125.0</td>\n",
       "      <td>167860.976475</td>\n",
       "    </tr>\n",
       "    <tr>\n",
       "      <th>8</th>\n",
       "      <td>Dinajpur</td>\n",
       "      <td>1970</td>\n",
       "      <td>33.691667</td>\n",
       "      <td>20.358333</td>\n",
       "      <td>118.583333</td>\n",
       "      <td>73.250000</td>\n",
       "      <td>0.658333</td>\n",
       "      <td>2.533333</td>\n",
       "      <td>6.339000</td>\n",
       "      <td>484460.0</td>\n",
       "      <td>169811.424225</td>\n",
       "    </tr>\n",
       "  </tbody>\n",
       "</table>\n",
       "</div>"
      ],
      "text/plain": [
       "  Station Names  YEAR   Max Temp   Min Temp    Rainfall  Relative Humidity  \\\n",
       "2         Bogra  1970  35.758333  20.925000  149.500000          75.583333   \n",
       "4    Chittagong  1970  32.400000  21.516667  235.666667          80.500000   \n",
       "5       Comilla  1970  33.400000  21.891667  144.333333          85.166667   \n",
       "7         Dhaka  1970  33.258333  21.466667  166.250000          76.250000   \n",
       "8      Dinajpur  1970  33.691667  20.358333  118.583333          73.250000   \n",
       "\n",
       "   Wind Speed  Cloud Coverage  Bright Sunshine  Aus_Area  Aus_Production  \n",
       "2    1.025000        3.433333         7.541667  286080.0    86400.299400  \n",
       "4    2.458333        4.300000         6.966667  264775.0   110195.761950  \n",
       "5    1.075000        2.258333         6.583838  566325.0   203250.263325  \n",
       "7    1.466667        3.750000         7.841667  499125.0   167860.976475  \n",
       "8    0.658333        2.533333         6.339000  484460.0   169811.424225  "
      ]
     },
     "execution_count": 15,
     "metadata": {},
     "output_type": "execute_result"
    }
   ],
   "source": [
    "df.head(5)"
   ]
  },
  {
   "cell_type": "code",
   "execution_count": null,
   "id": "aggressive-vatican",
   "metadata": {},
   "outputs": [],
   "source": []
  }
 ],
 "metadata": {
  "kernelspec": {
   "display_name": "Python 3",
   "language": "python",
   "name": "python3"
  },
  "language_info": {
   "codemirror_mode": {
    "name": "ipython",
    "version": 3
   },
   "file_extension": ".py",
   "mimetype": "text/x-python",
   "name": "python",
   "nbconvert_exporter": "python",
   "pygments_lexer": "ipython3",
   "version": "3.9.0"
  }
 },
 "nbformat": 4,
 "nbformat_minor": 5
}
